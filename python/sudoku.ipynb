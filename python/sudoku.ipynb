{
 "cells": [
  {
   "cell_type": "code",
   "execution_count": 1,
   "metadata": {},
   "outputs": [],
   "source": [
    "# pip install numpy matplotlib seaborn tqdm\n",
    "\n",
    "import numpy as np\n",
    "import matplotlib.pyplot as plt \n",
    "import seaborn as sns\n",
    "from tqdm import tqdm\n",
    "from matplotlib import pyplot as plt\n",
    "import copy\n",
    "import random\n"
   ]
  },
  {
   "cell_type": "code",
   "execution_count": 2,
   "metadata": {},
   "outputs": [],
   "source": [
    "# Example Sudoku Puzzle (0 represents empty cells)\n",
    "sudoku_puzzle = [\n",
    "    [5, 3, 0, 0, 7, 0, 0, 0, 0],\n",
    "    [6, 0, 0, 1, 9, 5, 0, 0, 0],\n",
    "    [0, 9, 8, 0, 0, 0, 0, 6, 0],\n",
    "    \n",
    "    [8, 0, 0, 0, 6, 0, 0, 0, 3],\n",
    "    [4, 0, 0, 8, 0, 3, 0, 0, 1],\n",
    "    [7, 0, 0, 0, 2, 0, 0, 0, 6],\n",
    "    \n",
    "    [0, 6, 0, 0, 0, 0, 2, 8, 0],\n",
    "    [0, 0, 0, 4, 1, 9, 0, 0, 5],\n",
    "    [0, 0, 0, 0, 8, 0, 0, 7, 9]\n",
    "]\n",
    "\n",
    "def print_sudoku(grid):\n",
    "    \"\"\"Utility function to print the Sudoku grid in a readable format.\"\"\"\n",
    "    for i in range(9):\n",
    "        row = \"\"\n",
    "        for j in range(9):\n",
    "            num = grid[i][j]\n",
    "            row += f\"{num} \" if num != 0 else \". \"\n",
    "            if (j + 1) % 3 == 0 and j < 8:\n",
    "                row += \"| \"\n",
    "        print(row)\n",
    "        if (i + 1) % 3 == 0 and i < 8:\n",
    "            print(\"- \" * 11)"
   ]
  },
  {
   "cell_type": "code",
   "execution_count": 3,
   "metadata": {},
   "outputs": [
    {
     "name": "stdout",
     "output_type": "stream",
     "text": [
      "5 3 . | . 7 . | . . . \n",
      "6 . . | 1 9 5 | . . . \n",
      ". 9 8 | . . . | . 6 . \n",
      "- - - - - - - - - - - \n",
      "8 . . | . 6 . | . . 3 \n",
      "4 . . | 8 . 3 | . . 1 \n",
      "7 . . | . 2 . | . . 6 \n",
      "- - - - - - - - - - - \n",
      ". 6 . | . . . | 2 8 . \n",
      ". . . | 4 1 9 | . . 5 \n",
      ". . . | . 8 . | . 7 9 \n"
     ]
    }
   ],
   "source": [
    "print_sudoku(sudoku_puzzle)"
   ]
  },
  {
   "cell_type": "code",
   "execution_count": 4,
   "metadata": {},
   "outputs": [],
   "source": [
    "def fitness_function(grid):\n",
    "    \"\"\"\n",
    "    Calculates the fitness of a Sudoku grid.\n",
    "    \"\"\"\n",
    "    fitness = 0\n",
    "    \n",
    "    # Check rows\n",
    "    for row in grid:\n",
    "        fitness += 9 - len(set(row))\n",
    "    \n",
    "    # Check columns\n",
    "    for col in zip(*grid):\n",
    "        fitness += 9 - len(set(col))\n",
    "    \n",
    "    # Check subgrids\n",
    "    for i in range(0, 9, 3):\n",
    "        for j in range(0, 9, 3):\n",
    "            subgrid = []\n",
    "            for k in range(3):\n",
    "                subgrid += grid[i + k][j:j + 3]\n",
    "            fitness += 9 - len(set(subgrid))\n",
    "    \n",
    "    return fitness\n"
   ]
  },
  {
   "cell_type": "code",
   "execution_count": 5,
   "metadata": {},
   "outputs": [],
   "source": [
    "def initialize_population(puzzle, population_size=100):\n",
    "    \"\"\"\n",
    "    Initializes the population by filling empty cells with random numbers.\n",
    "    \"\"\"\n",
    "    population = []\n",
    "    for _ in range(population_size):\n",
    "        individual = copy.deepcopy(puzzle)\n",
    "        for i in range(9):\n",
    "            missing = [num for num in range(1, 10) if individual[i].count(num) == 0]\n",
    "            for j in range(9):\n",
    "                if individual[i][j] == 0:\n",
    "                    individual[i][j] = random.choice(missing)\n",
    "        population.append(individual)\n",
    "    return population\n",
    "\n",
    "\n",
    "def crossover(parent1, parent2):\n",
    "    child= copy.deepcopy(parent1)\n",
    "    crossover_point= random.randint(0,8)\n",
    "    for i in range(crossover_point,9):\n",
    "        child[i]= parent2[i]\n",
    "    return child; \n",
    "\n",
    "def mutate(individual, mutation_rate=0.05):\n",
    "    \"\"\"Mutates an individual by swapping two cells in a row.\"\"\"\n",
    "    for i in range(9):\n",
    "        if random.random() < mutation_rate:\n",
    "            swap_indices = random.sample(range(9), 2)\n",
    "            # Swap the numbers\n",
    "            individual[i][swap_indices[0]], individual[i][swap_indices[1]] = \\\n",
    "            individual[i][swap_indices[1]], individual[i][swap_indices[0]]\n",
    "    return individual\n",
    "\n",
    "def quantum_inspired_optimization_solver(puzzle, population_size=200, generations=1000, mutation_rate=0.1):\n"
   ]
  }
 ],
 "metadata": {
  "kernelspec": {
   "display_name": "Python 3",
   "language": "python",
   "name": "python3"
  },
  "language_info": {
   "codemirror_mode": {
    "name": "ipython",
    "version": 3
   },
   "file_extension": ".py",
   "mimetype": "text/x-python",
   "name": "python",
   "nbconvert_exporter": "python",
   "pygments_lexer": "ipython3",
   "version": "3.8.10"
  }
 },
 "nbformat": 4,
 "nbformat_minor": 2
}
